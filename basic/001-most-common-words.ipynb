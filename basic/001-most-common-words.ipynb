{
 "cells": [
  {
   "cell_type": "markdown",
   "metadata": {},
   "source": [
    "# A program to print top 5 most used words in a paragraph.\n",
    "\n",
    "We will be writing a python program that prints the top five most common words in a paragraph.\n",
    "\n",
    "For example:\n",
    "\n",
    "**Input**\n",
    "\n",
    "```\n",
    "When programmable computers were first created, they rapidly overtook humans in solving problems that could be described by a list of formal mathematical rules, such as crunching numbers. The main obstacle to computers and artificial intelligence proved to be the tasks that are easy for human beings but difficult to formalize as a set of mathematical rules. The tasks such as recognizing spoken words or differentiating objects in images require intuition and do not translate to simple mathematical rules.\n",
    "```\n",
    "\n",
    "**Output**\n",
    "\n",
    "```\n",
    "\"to\": 4 times.\n",
    "\"mathematical\": 3 times.\n",
    "\"rules\": 3 times.\n",
    "\"as\": 3 times.\n",
    "\"the\": 3 times.\n",
    "```\n"
   ]
  },
  {
   "cell_type": "markdown",
   "metadata": {},
   "source": [
    "### Simple and understandable solution"
   ]
  },
  {
   "cell_type": "code",
   "execution_count": 1,
   "metadata": {},
   "outputs": [
    {
     "name": "stdout",
     "output_type": "stream",
     "text": [
      "When programmable computers were first created, they rapidly overtook humans in solving problems that could be described by a list of formal mathematical rules, such as crunching numbers. The main obstacle to computers and artificial intelligence proved to be the tasks that are easy for human beings but difficult to formalize as a set of mathematical rules. The tasks such as recognizing spoken words or differentiating objects in images require intuition and do not translate to simple mathematical rules.\n",
      "\"to\": 4 times.\n",
      "\"mathematical\": 3 times.\n",
      "\"rules\": 3 times.\n",
      "\"as\": 3 times.\n",
      "\"the\": 3 times.\n"
     ]
    }
   ],
   "source": [
    "alphabets = ['a','b','c','d','e','f','g','h','i','j','k','l','m','n','o','p','q','r','s','t','u','v','w','x','y','z']\n",
    "current_word = \"\"\n",
    "word_counter = {}\n",
    "paragraph = input().lower() + ' '\n",
    "for character in paragraph:\n",
    "    if character in alphabets:\n",
    "        current_word += character\n",
    "    elif len(current_word)>1 or current_word == \"a\":\n",
    "        if word_counter.get(current_word):\n",
    "            word_counter[current_word] += 1\n",
    "        else:\n",
    "            word_counter[current_word] = 1\n",
    "        current_word = \"\"\n",
    "sorted_counter = sorted(word_counter.items(), key=lambda x:x[1], reverse = True)\n",
    "for word, frequency in sorted_counter[:5]:\n",
    "    print(f'\"{word}\": {frequency} times.')\n"
   ]
  },
  {
   "cell_type": "markdown",
   "metadata": {},
   "source": [
    "Let's break down the code into small chunks to understand it better."
   ]
  },
  {
   "cell_type": "code",
   "execution_count": null,
   "metadata": {},
   "outputs": [],
   "source": [
    "alphabets = ['a','b','c','d','e','f','g','h','i','j','k','l','m','n','o','p','q','r','s','t','u','v','w','x','y','z']\n",
    "current_word = \"\"\n",
    "word_counter = {}\n",
    "paragraph = input().lower() + ' '"
   ]
  },
  {
   "cell_type": "markdown",
   "metadata": {},
   "source": [
    "Till now, we have only initialized and assigned variables.\n",
    " \n",
    "1. `alphabets` contains all the alphabets of English language. \n",
    "\n",
    "2. `current_word` will contain the word we are currently iterating. I will explain this later. \n",
    "\n",
    "3. `word_counter` is a dictionary that consists of word as a key and its frequency as value. \n",
    "\n",
    "4. `paragraph` will take input from the user and convert the entire paragraph into lower case using `lower()` method. You see a space ' ' being added to the variable `paragraph`. Try to figure out why. I will explain it later while explaining the rest of the code."
   ]
  },
  {
   "cell_type": "code",
   "execution_count": null,
   "metadata": {},
   "outputs": [],
   "source": [
    "for character in paragraph:\n",
    "    if character in alphabets:\n",
    "        current_word += character"
   ]
  },
  {
   "cell_type": "markdown",
   "metadata": {},
   "source": [
    "This `for` loop iterates through string `paragraph`. On each iteration, it takes out one character from the entire paragraph. Then `if` function checks if the character being iterated is in the `alphabets` list. If it is in the `alphabets`, it adds the character to the `current_word` variable else it skips the `if` block of code and goes directly to the `elif` block."
   ]
  },
  {
   "cell_type": "code",
   "execution_count": null,
   "metadata": {},
   "outputs": [],
   "source": [
    "    elif len(current_word)>1 or current_word == \"a\":\n",
    "        if word_counter.get(current_word):\n",
    "            word_counter[current_word] += 1\n",
    "        else:\n",
    "            word_counter[current_word] = 1\n",
    "        current_word = \"\""
   ]
  },
  {
   "cell_type": "markdown",
   "metadata": {},
   "source": [
    "The block of code under `elif` condition assigns a key:value pair to the `word_counter` dictionary.\n",
    "If the word is already present in the dictionary it adds 1 to its value which represents the word's frequency and if the word is new, it assigns its value as 1.\n",
    "After assigning the word to the dictionary, `current_word` is again emptied to continue the process for the next word.\n",
    "\n",
    "Why `elif` and not `else`?\n",
    "There might be instances where two punctuations are placed next to each other like:\n",
    "\"Hey, What are you doing there`**?\"**`\n",
    "In such cases if we had only used else without any condition, \"\" would be added to the dictionary `word_counter`. But now that we have elif condition which tests if the length of the current_word is greater than 1, it solves the problem. Characters are added to the current_word in the previous block only if the character is in `alphabets`, so even if we get hundreds of punctuation placed next to each other, len(current_word) will never be greater than 1.\n",
    "\n",
    "Why did we add \" \" in the `paragraph` variable when we initialized and assigned it?\n",
    "If the input paragraph ends without having any punctuation at the end, the program will assign the last word to `current_word` but it won't be able to add the `current_word` to `word_counter` as the for loop will end. So to undergo one more iteration, we add `\" \"` or `\".\"` at the end of the paragraph."
   ]
  },
  {
   "cell_type": "code",
   "execution_count": null,
   "metadata": {},
   "outputs": [],
   "source": [
    "sorted_counter = sorted(word_counter.items(), key=lambda x:x[1], reverse = True)"
   ]
  },
  {
   "cell_type": "markdown",
   "metadata": {},
   "source": [
    "`sorted()` function returns a sorted list for a given list, tuple, or dictionary. In case of dictionary, it creates a list with key:value pairs as tuples.\n",
    "\n",
    "Here, we are sorting using values in our key:value pair so we are using `key=lambda x:x[1]` as an attribute. If we were sorting through keys, we would use `key=lambda x:x[0]` as an attribute.\n",
    "\n",
    "Also, as we are trying to find the most common words, we need to sort the dictionary in a descending order hence `reverse = True`. \n",
    "\n",
    "If none of these attributes were given, the sorted function would sort through keys alphabetically in an ascending order."
   ]
  },
  {
   "cell_type": "code",
   "execution_count": null,
   "metadata": {},
   "outputs": [],
   "source": [
    "for word, frequency in sorted_counter[:5]:\n",
    "    print(f'\"{word}\": {frequency} times.')"
   ]
  },
  {
   "cell_type": "markdown",
   "metadata": {},
   "source": [
    "It prints the word and its frequency in a pretty format using f strings.\n",
    "We are just looping through the sorted dictionary for 5 times and printing key:value pair using f string and additional texts."
   ]
  },
  {
   "cell_type": "markdown",
   "metadata": {},
   "source": [
    "## Geeky and short solution\n",
    "I won't be describing each and every line of this solution like I did to the previous solution. I will only explain what each line does and it's your job to find out why."
   ]
  },
  {
   "cell_type": "code",
   "execution_count": null,
   "metadata": {},
   "outputs": [],
   "source": [
    "alphabets = ['a','b','c','d','e','f','g','h','i','j','k','l','m','n','o','p','q','r','s','t','u','v','w','x','y','z']\n",
    "word = [''.join([y for y in x if y in alphabets]) for x in input().lower().split()]\n",
    "frequency = {k:word.count(k) for k in set(word)}\n",
    "print(sorted(frequency.items(), key=lambda x: x[1], reverse=True)[:5])"
   ]
  },
  {
   "cell_type": "markdown",
   "metadata": {},
   "source": [
    "Now we will look each line of the code."
   ]
  },
  {
   "cell_type": "code",
   "execution_count": null,
   "metadata": {},
   "outputs": [],
   "source": [
    "alphabets = ['a','b','c','d','e','f','g','h','i','j','k','l','m','n','o','p','q','r','s','t','u','v','w','x','y','z']"
   ]
  },
  {
   "cell_type": "markdown",
   "metadata": {},
   "source": [
    "It initializes and assigns all the alphabets to the `alphabets` variable."
   ]
  },
  {
   "cell_type": "code",
   "execution_count": null,
   "metadata": {},
   "outputs": [],
   "source": [
    "word = [''.join([y for y in x if y in alphabets]) for x in input().lower().split()]"
   ]
  },
  {
   "cell_type": "markdown",
   "metadata": {},
   "source": [
    "It creates a list of word from the input paragraph."
   ]
  },
  {
   "cell_type": "code",
   "execution_count": null,
   "metadata": {},
   "outputs": [],
   "source": [
    "frequency = {k:word.count(k) for k in set(word)}"
   ]
  },
  {
   "cell_type": "markdown",
   "metadata": {},
   "source": [
    "dictionary comprehension to count the number of words in the list word and assign word:frequency pair to the dictionary frequency"
   ]
  },
  {
   "cell_type": "code",
   "execution_count": null,
   "metadata": {},
   "outputs": [],
   "source": [
    "print(sorted(frequency.items(), key=lambda x: x[1], reverse=True)[:5])"
   ]
  },
  {
   "cell_type": "markdown",
   "metadata": {},
   "source": [
    "It sorts the dictionary in descending order using values and prints the first 5 items of the sorted list."
   ]
  }
 ],
 "metadata": {
  "kernelspec": {
   "display_name": "Python 3",
   "language": "python",
   "name": "python3"
  },
  "language_info": {
   "codemirror_mode": {
    "name": "ipython",
    "version": 3
   },
   "file_extension": ".py",
   "mimetype": "text/x-python",
   "name": "python",
   "nbconvert_exporter": "python",
   "pygments_lexer": "ipython3",
   "version": "3.8.5"
  }
 },
 "nbformat": 4,
 "nbformat_minor": 4
}

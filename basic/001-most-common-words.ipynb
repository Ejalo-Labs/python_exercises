{
 "cells": [
  {
   "cell_type": "markdown",
   "metadata": {},
   "source": [
    "## Program to Find Out Most Common Words in a Given Paragraph\n",
    "\n",
    "In this exercise, we will write a Python program to find out the top five most common words in a given paragraph.\n",
    "\n",
    "For example,\n",
    "\n",
    "#### Input\n",
    "When programmable computers were first created, they rapidly overtook humans in solving problems that could be described by a list of formal mathematical rules, such as crunching numbers. The main obstacle to computers and artificial intelligence proved to be the tasks that are easy for human beings but difficult to formalize as a set of mathematical rules. The tasks such as recognizing spoken words or differentiating objects in images require intuition and do not translate to simple mathematical rules.\n",
    "\n",
    "#### Output\n",
    "\n",
    "```\n",
    "\"to\" occurs 4 times\n",
    "\"mathematical\" occurs 3 times\n",
    "\"rules\" occurs 3 times\n",
    "\"as\" occurs 3 times\n",
    "\"the\" occurs 3 times\n",
    "```"
   ]
  },
  {
   "cell_type": "code",
   "execution_count": 11,
   "metadata": {},
   "outputs": [
    {
     "name": "stdout",
     "output_type": "stream",
     "text": [
      "When programmable computers were first created, they rapidly overtook humans in solving problems that could be described by a list of formal mathematical rules, such as crunching numbers. The main obstacle to computers and artificial intelligence proved to be the tasks that are easy for human beings but difficult to formalize as a set of mathematical rules. The tasks such as recognizing spoken words or differentiating objects in images require intuition and do not translate to simple mathematical rules.\n",
      "\"to\" occurs 4 times\n",
      "\"mathematical\" occurs 3 times\n",
      "\"rules\" occurs 3 times\n",
      "\"as\" occurs 3 times\n",
      "\"the\" occurs 3 times\n"
     ]
    }
   ],
   "source": [
    "alphabets = ['a','b','c','d','e','f','g','h','i','j','k','l','m','n','o','p','q','r','s','t','u','v','w','x','y','z']\n",
    "\n",
    "word_counter = {}\n",
    "\n",
    "current_word = \"\"\n",
    "\n",
    "paragraph = input().lower() + '.'\n",
    "\n",
    "for i in range(len(paragraph)):\n",
    "    item = paragraph[i]\n",
    "    \n",
    "    if item in alphabets:\n",
    "        current_word += item\n",
    "    elif current_word:\n",
    "        word_counter[current_word] = word_counter.get(current_word) or 0\n",
    "        word_counter[current_word] += 1\n",
    "        current_word = \"\"\n",
    "\n",
    "sorted_counter = sorted(word_counter.items(), key=lambda x: x[1], reverse=True)\n",
    "\n",
    "for (key, value) in sorted_counter[:5]:\n",
    "    print(f'\"{key}\" occurs {value} times')"
   ]
  },
  {
   "cell_type": "code",
   "execution_count": null,
   "metadata": {},
   "outputs": [],
   "source": []
  }
 ],
 "metadata": {
  "kernelspec": {
   "display_name": "Python 3",
   "language": "python",
   "name": "python3"
  },
  "language_info": {
   "codemirror_mode": {
    "name": "ipython",
    "version": 3
   },
   "file_extension": ".py",
   "mimetype": "text/x-python",
   "name": "python",
   "nbconvert_exporter": "python",
   "pygments_lexer": "ipython3",
   "version": "3.8.5"
  }
 },
 "nbformat": 4,
 "nbformat_minor": 4
}

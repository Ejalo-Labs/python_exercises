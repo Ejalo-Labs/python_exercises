{
 "metadata": {
  "language_info": {
   "codemirror_mode": {
    "name": "ipython",
    "version": 3
   },
   "file_extension": ".py",
   "mimetype": "text/x-python",
   "name": "python",
   "nbconvert_exporter": "python",
   "pygments_lexer": "ipython3",
   "version": "3.9.0-final"
  },
  "orig_nbformat": 2,
  "kernelspec": {
   "name": "Python 3.9.0 64-bit",
   "display_name": "Python 3.9.0 64-bit",
   "metadata": {
    "interpreter": {
     "hash": "d62006d1f3422635846181a997a61e8ec3049f797e5d7dfe0cd1bb84092b7c19"
    }
   }
  }
 },
 "nbformat": 4,
 "nbformat_minor": 2,
 "cells": [
  {
   "source": [
    "## Program to find out sum of even fibonacci numbers till 4 million"
   ],
   "cell_type": "markdown",
   "metadata": {}
  },
  {
   "source": [
    "a = 0\n",
    "b = 1\n",
    "c = 0\n",
    "even_sum = 0\n",
    "while c <= 4_000_000:\n",
    "    c = a + b\n",
    "    if c % 2 == 0:\n",
    "        even_sum += c\n",
    "    a = b\n",
    "    b = c\n",
    "print(even_sum)"
   ],
   "cell_type": "code",
   "metadata": {},
   "execution_count": null,
   "outputs": []
  },
  {
   "source": [
    "So, What are fibonacci numbers?\n",
    "The series formed by numbers such that the number is sum of its two preceding numbers is called fibonacci series. And the number in fibonacci series is called fibonacci number.\n",
    "\n",
    "Fibonacci series conventionally starts from 0 and 1, so a fibonacci series of 10 numbers would look like,\n",
    "\n",
    "0, 1, 1, 2, 3, 5, 8, 13, 21, 34"
   ],
   "cell_type": "markdown",
   "metadata": {}
  },
  {
   "source": [
    "```\n",
    "a = 0\n",
    "b = 1\n",
    "c = 0\n",
    "even_sum = 0\n",
    "```\n",
    "Using this code, we are just initializing three variables, a refering to the first term, b refering to the second term, and c their sum. As we are calculating the sum numbers of conventional finoacci series, we have assigned the first two numbers 0 and 1. Hence,\n",
    "```\n",
    "a = 0\n",
    "b = 1\n",
    "```\n",
    "c = 0 just initializes the two term's sum variable for now. We will be using it later.\n",
    "even_sum = 0 is initializing a variable that stores the even fibonacci numbers from the loop."
   ],
   "cell_type": "markdown",
   "metadata": {}
  },
  {
   "source": [
    "```\n",
    "while c < 4_000_000:\n",
    "    c = a + b\n",
    "    if c % 2 == 0:\n",
    "        even_sum += c\n",
    "    a = b\n",
    "    b = c\n",
    "```\n",
    "This block of code finds the fibonacci series until the number excedes 4 million. The loop breaks if the sum of last two terms of the series excedes 4 million.\n",
    "'c = a + b' adds the last two terms of the fiboacci series.\n",
    "'if c%2 == 0' checks if the fibonacci number is even. If yes, it adds the number to even_sum variable that we initialized before. It does the same for every fiboanacci number until it reaches 4 million.\n",
    "\n",
    "```\n",
    "a = b\n",
    "b = c\n",
    "```\n",
    "Now we are reassinging the last two terms of the fibonacci series, as a new number(c) is added to the series. Previously last term(b) now becomes second last term(a), and the new number added to series(c) becomes the last term(b)."
   ],
   "cell_type": "markdown",
   "metadata": {}
  },
  {
   "source": [
    "The sum of the even fibonacci numbers till 4 million is stored in even_sum, and we just have to print the variable even_sum to get the result we want."
   ],
   "cell_type": "markdown",
   "metadata": {}
  }
 ]
}
{
 "metadata": {
  "language_info": {
   "codemirror_mode": {
    "name": "ipython",
    "version": 3
   },
   "file_extension": ".py",
   "mimetype": "text/x-python",
   "name": "python",
   "nbconvert_exporter": "python",
   "pygments_lexer": "ipython3",
   "version": "3.9.0-final"
  },
  "orig_nbformat": 2,
  "kernelspec": {
   "name": "Python 3.9.0 64-bit",
   "display_name": "Python 3.9.0 64-bit",
   "metadata": {
    "interpreter": {
     "hash": "d62006d1f3422635846181a997a61e8ec3049f797e5d7dfe0cd1bb84092b7c19"
    }
   }
  }
 },
 "nbformat": 4,
 "nbformat_minor": 2,
 "cells": [
  {
   "source": [
    "## Number to words\n",
    "We will be writing a python program that converts number to words. The program will involve three steps.\n",
    "- Getting the input from the user and formatting the number such that the length of the number will be a multiple of 3 by adding 0s to the front of the number if required. By doing this, we will be able to divide the number into chunks of 3 digits.\n",
    "    - 5         ->      005\n",
    "\n",
    "    - 23        ->      023\n",
    "\n",
    "    - 123       ->      123\n",
    "\n",
    "    - 12345     ->      012_345\n",
    "    \n",
    "    - 12345666   ->      012_345_666\n",
    "    \n",
    "    I am using \\_ just to signify the blocks. Fun fact: You can actually use \\_ as a demiliter of numbers in python, but that's not what we are doing here.\n",
    "- We will convert each one block of three digits into words.\n",
    "- We will add the words of all the blocks make it a single word.\n",
    "\n",
    "Now let's look at the code."
   ],
   "cell_type": "markdown",
   "metadata": {}
  },
  {
   "cell_type": "code",
   "execution_count": null,
   "metadata": {},
   "outputs": [],
   "source": [
    "digit = {'0': '', '1': 'one', '2': 'two', '3': 'three', '4': 'four','5': 'five', '6': 'six', '7': 'seven', '8': 'eight', '9': 'nine'}\n",
    "tens = {'0':'','1':{'0': 'ten', '1': 'eleven', '2': 'twelve', '3': 'thirteen', '4': 'fourteen','5': 'fifteen','6': 'sixteen', '7': 'seventeen', '8': 'eighteen', '9': 'nineteen'},'2':'twenty','3':'thirty','4':'forty','5': 'fifty','6':'sixty','7':'seventy','8':'eighty','9':'ninety',}\n",
    "unit = {0: '', 1: 'thousand', 2: 'million', 3: 'billion', 4: 'trillion',5: 'quadrillfion', 6: 'quintillion', 7: 'sextillion', 8: 'septillion', 9: 'octillion',10: 'nonillion', 11: 'decillion',12: 'undecillion', 13: 'duodecillion', 14: 'tredecillion',15: 'quatttuor-decillion', 16: 'quindecillion',17: 'duodecillion', 18: 'tredecillion',19: 'octodecillion', 20: 'novemdecillion',21: 'vigintillion'}\n",
    "\n",
    "def block_converter(block):\n",
    "    block_word = ''\n",
    "    if int(block) == 0: return 'zero'\n",
    "    for i, v in enumerate(block):\n",
    "        if v != '0':\n",
    "            if i == 0: block_word += digit[v] + ' hundred '\n",
    "            if i == 1:\n",
    "                block_word += tens[v][block[2]] if int(v)== 1 else tens[v]\n",
    "                if v != '1' and block[2] != '0': block_word += '-'\n",
    "            if i == 2 and block[1] != '1': block_word += digit[v]\n",
    "    return block_word\n",
    "\n",
    "def converter(num):\n",
    "    word = ''\n",
    "    blocks = [''.join(num[i:i+3]) for i in range(0, len(num),3)]\n",
    "    for index, block in enumerate(blocks[::-1]):\n",
    "        word = block_converter(block) + ' ' + unit[index] + ', ' + word\n",
    "    return word\n",
    "\n",
    "while True:\n",
    "    try:\n",
    "        num = str(int(input('Enter any number:  ')))\n",
    "        break\n",
    "    except ValueError:\n",
    "        print(\"Not a number. Input again.\")\n",
    "n = (len(num)// 3 + 1)*3 if len(num)%3 != 0 else len(num) \n",
    "print(f'{num} in words is:  {converter(num.zfill(n))[:-2].rstrip().capitalize()}.')"
   ]
  },
  {
   "source": [
    "Okay, there's a lot to take in. I get it. Let's break the code into small chunks."
   ],
   "cell_type": "markdown",
   "metadata": {}
  },
  {
   "cell_type": "code",
   "execution_count": null,
   "metadata": {},
   "outputs": [],
   "source": [
    "digit = {'0': '', '1': 'one', '2': 'two', '3': 'three', '4': 'four','5': 'five', '6': 'six', '7': 'seven', '8': 'eight', '9': 'nine'}\n",
    "tens = {'0':'','1':{'0': 'ten', '1': 'eleven', '2': 'twelve', '3': 'thirteen', '4': 'fourteen','5': 'fifteen','6': 'sixteen', '7': 'seventeen', '8': 'eighteen', '9': 'nineteen'},'2':'twenty','3':'thirty','4':'forty','5': 'fifty','6':'sixty','7':'seventy','8':'eighty','9':'ninety',}\n",
    "unit = {0: '', 1: 'thousand', 2: 'million', 3: 'billion', 4: 'trillion',5: 'quadrillfion', 6: 'quintillion', 7: 'sextillion', 8: 'septillion', 9: 'octillion',10: 'nonillion', 11: 'decillion',12: 'undecillion', 13: 'duodecillion', 14: 'tredecillion',15: 'quatttuor-decillion', 16: 'quindecillion',17: 'duodecillion', 18: 'tredecillion',19: 'octodecillion', 20: 'novemdecillion',21: 'vigintillion'}\n"
   ]
  },
  {
   "source": [
    "In this block of code, we are just initializing and assinging variables.\n",
    "- `digit` is a dictionary for the ones place of a three-digit code. Every digit from 0 to 9 is assigned it's corresponding word.\n",
    "- `tens` is a dictionary for the tens place of a three-digit code. And as eleven to nineteen are exception from the rest of numbers, we have assigned a seprate dictionary for the key '1'.\n",
    "- `unit` is a dictionary for each block. First block of three codes will take unit[0], the second will take unit[1], and so on.\n",
    "\n",
    "You will understand everything later when we use the values of these dictionaries later in our solution."
   ],
   "cell_type": "markdown",
   "metadata": {}
  },
  {
   "cell_type": "code",
   "execution_count": null,
   "metadata": {},
   "outputs": [],
   "source": [
    "def block_converter(block):\n",
    "    block_word = ''\n",
    "    if int(block) == 0: return 'zero'\n",
    "    for i, v in enumerate(block):\n",
    "        if v != '0':\n",
    "            if i == 0: block_word += digit[v] + ' hundred '\n",
    "            if i == 1:\n",
    "                block_word += tens[v][block[2]] if int(v)== 1 else tens[v]\n",
    "                if v != '1' and block[2] != '0': block_word += '-'\n",
    "            if i == 2 and block[1] != '1': block_word += digit[v]\n",
    "    return block_word"
   ]
  },
  {
   "source": [
    "Now this is the code that converts each block of three digits into their corresponding words.\n",
    "\n",
    "- 9     ->      nine\n",
    "\n",
    "- 99    ->      ninety-nine\n",
    "\n",
    "- 999   ->      nine hundred ninety-nine\n",
    "\n",
    "We won't be passing on values greater than 999 to this function as 999 is the greatest number for 3-digits number."
   ],
   "cell_type": "markdown",
   "metadata": {}
  },
  {
   "source": [
    "Now, let's see how this function works.\n",
    "```\n",
    "def block_converter(block):\n",
    "    (block of code)\n",
    "    return answer\n",
    "```\n",
    "This def function is just creating a block_converter named function that takes in number of three digits and convert it into words. Assigning initializing a function using def, we write code inside it and pass the answer out of the fucntion using return.\n",
    "\n"
   ],
   "cell_type": "markdown",
   "metadata": {}
  },
  {
   "cell_type": "code",
   "execution_count": null,
   "metadata": {},
   "outputs": [],
   "source": [
    "    block_word = ''\n",
    "    if int(block) == 0: return 'zero'"
   ]
  },
  {
   "source": [
    "We initialize a string variable called block_word where we will be storing our word.\n",
    "\n",
    "Then we check if the number is 0. If yes, we end the function right here by returning 'zero'"
   ],
   "cell_type": "markdown",
   "metadata": {}
  },
  {
   "cell_type": "code",
   "execution_count": null,
   "metadata": {},
   "outputs": [],
   "source": [
    "    for i, v in enumerate(block):\n",
    "        if v != '0':\n",
    "            if i == 0: block_word += digit[v] + ' hundred '\n",
    "            if i == 1:\n",
    "                block_word += tens[v][block[2]] if int(v)== 1 else tens[v]\n",
    "                if v != '1' and block[2] != '0': block_word += '-'\n",
    "            if i == 2 and block[1] != '1': block_word += digit[v]\n",
    "    return block_word"
   ]
  },
  {
   "source": [
    "```\n",
    "    for i, v in enumerate(block):\n",
    "```\n",
    "This for loop loops through the block of 3 digit-numbers and its indices using enumerate function.\n",
    "\n",
    "Here, i represent the index and v represent the value. The rest of the code is just conditions. Try to go through the lines to figure out what it does. \n",
    "```\n",
    "        if v != '0':\n",
    "            if i == 0: block_word += digit[v] + ' hundred '\n",
    "            if i == 1:\n",
    "                block_word += tens[v][block[2]] if int(v)== 1 else tens[v]\n",
    "                if v != '1' and block[2] != '0': block_word += '-'\n",
    "            if i == 2 and block[1] != '1': block_word += digit[v]\n",
    "```\n",
    "\n",
    "```\n",
    "block_word += tens[v][block[2]] if int(v)== 1 else tens[v]\n",
    "```\n",
    "\n",
    "can be written as\n",
    "\n",
    "```\n",
    "if int(v) == 1:\n",
    "    block_word = block_word + tens[v]block[2]]\n",
    "else:\n",
    "    block_word = block_word + tens[v]\n",
    "```\n",
    "\n",
    "Play with the code and try to write your own. Just remember that a block of three-digit should be passed to this function or else it would terribly fail.\n",
    "\n",
    "We will code more down below to make sure block of three-digit and only three-digit is passed onto this function.\n"
   ],
   "cell_type": "markdown",
   "metadata": {}
  },
  {
   "source": [
    "def converter(num):\n",
    "    word = ''\n",
    "    blocks = [''.join(num[i:i+3]) for i in range(0, len(num),3)]\n",
    "    for index, block in enumerate(blocks[::-1]):\n",
    "        word = block_converter(block) + ' ' + unit[index] + ', ' + word\n",
    "    return word"
   ],
   "cell_type": "code",
   "metadata": {},
   "execution_count": null,
   "outputs": []
  },
  {
   "source": [
    "This converter function converts a given number into block of three digits and then passes the block to the block_converter function we created above and combines all the values returned by the block_converter function. While doing that it also adds the unit for the respective index. For example:\n",
    "- 345       ->      'three hundred forty-five'\n",
    "\n",
    "    - Here it only returned the word returned by block_converter function.\n",
    "\n",
    "- 123456    ->      'one hundred twenty-three thousand, four hundred fifty-six'\n",
    "\n",
    "    - Here it added 'one hundred twenty-three'  and 'four hundred fifty-six' returned by block_converter while also adding 'thousand' after 'one hundred twenty-three'\n",
    "\n",
    " - 123456789    ->  'one hundred twenty-three million, four hundred fifty-six thousand, seven hundred eighty-nine'\n",
    "\n",
    "    - Here it added 'million' after 123 and thousand after 456 and nothing after 789. \n",
    "\n",
    "let's see how the function is doing that."
   ],
   "cell_type": "markdown",
   "metadata": {}
  },
  {
   "source": [
    "```\n",
    "word = ''\n",
    "```\n",
    "Let's first initialize the string variable word where we will add all the words returned by our block converter.\n",
    "```\n",
    "blocks = `[''.join(num[i:i+3]) for i in range(0, len(num),3)]`\n",
    "```\n",
    "This line of code is converting a given number into blocks of 3 digit-number.\n",
    "You would want to learn about list comprehension and join method before going through this code.\n",
    "- List comprehension:   List comprehension is an elegant way to define and create list in Python. List comprehension takes iterators and assigns a certain value to the list for each iterator. We can also add condition to the comprehension to only add values to the list when the condition is satisfied. That's exactly what we will be doing here.\n",
    "\n",
    "    - `numbers = [x for x in range(10)]` will give the list:    `[0,1,2,3,4,5,6,7,8,9]`\n",
    "\n",
    "    - `numbers = [x for x in range(10) if x % 2 == 0]` will give the list:    `[0,2,4,6,8]`\n",
    "\n",
    "        - Here, the condition is that the number should be even to be added to the list. It neglects `[1,3,5,7,9]` as they are not even.\n",
    "        \n",
    "- Join method:      Join method is a simple method that combines all the elements in a iterator(list in this case) into a string separated by a separator.\n",
    "\n",
    "    - `''.join(['1','2','3','4'])` will return '1234'. Here `['1','2','3','4']` is the list and '' at the front of join method is separator.\n",
    "\n",
    "    - `','.join(['1','2','3','4'])` will return '1,2,3,4'. Here `['1','2','3','4']` is the list and ',' at the front of join method is separator.\n",
    "\n",
    "    You get the idea.\n",
    "\n",
    "Now, let's look back at the line of code again.\n",
    "\n",
    "```\n",
    "blocks = `[''.join(num[i:i+3]) for i in range(0, len(num),3)]`\n",
    "```\n",
    "\n",
    "Here, the for loop inside the list comprehension will loop from 0 to the length of the number with step 3. For a number with length 9, the value of i would be 0 at first, 2 at the second iteration, 5 at the third, and 8 at the fourth.\n",
    "For each iteration of the loop, list comprehension adds a value to the list called blocks. Now, comes the magic of join function. `num[i:i+3]` slices three elements from the num list and join functions adds them to make a string of three digits.\n",
    "\n"
   ],
   "cell_type": "markdown",
   "metadata": {}
  },
  {
   "cell_type": "code",
   "execution_count": null,
   "metadata": {},
   "outputs": [],
   "source": [
    "for index, block in enumerate(blocks[::-1]):\n",
    "        word = block_converter(block) + ' ' + unit[index] + ', ' + word"
   ]
  },
  {
   "source": [
    "This for loop iterates over the blocks. Here, we are using enumerate function to iterate over the values in the list as well the index of the value.\n",
    "\n",
    "We are also reversing the list using slicing method `blocks[::-1]` so that we can concatenate easily. \n",
    "\n",
    "Let's take an example of the number 123456789\n",
    "\n",
    "This number will be converted into `['123','456', '789']` by  `[''.join(num[i:i+3]) for i in range(0, len(num),3)]`\n",
    "\n",
    "Then we reverse this list to `['789','456','123']` by slicing `blocks[::-1]`\n",
    "\n",
    "Then, we loop through the reversed list.\n",
    "\n",
    "For the first iteration of for loop:\n",
    "\n",
    "    `block_converter('789')` return 'seven hundred eighty-nine'\n",
    "\n",
    "    It is stored in the word variable and as the unit index of the first block is zero, nothing is added to it from the unit dictionary. \n",
    "\n",
    "For the second iteration of for loop:\n",
    "\n",
    "    `word = 'seven hundred eighty-nine'`\n",
    "\n",
    "    `block_converter('456')` returns 'four hundred fifty-six'\n",
    "\n",
    "    unit of this block is 1 so `unit[1]` is 'thousand'.\n",
    "\n",
    "    now we concatenate all these to make 'seven hundred eighty-nine thousand, four hundred fifty-six'\n",
    "\n",
    "We repeat the same process for million and add the word returned by the `block_converter('123')` and 'million' in front of the word we already have.\n",
    "Then we return the word our of the function using `return word`."
   ],
   "cell_type": "markdown",
   "metadata": {}
  },
  {
   "cell_type": "code",
   "execution_count": null,
   "metadata": {},
   "outputs": [],
   "source": [
    "while True:\n",
    "    try:\n",
    "        num = str(int(input('Enter any number:  ')))\n",
    "        break\n",
    "    except ValueError:\n",
    "        print(\"Not a number. Input again.\")"
   ]
  },
  {
   "cell_type": "code",
   "execution_count": null,
   "metadata": {},
   "outputs": [],
   "source": [
    "This block of code just checks if the input from the user is number of not.\n",
    "We initiate a infinite while loop that only breaks when certain condition is met.\n",
    "We then use try and except to prevent any program crashing in case user doesn't input the expected format of data.\n",
    "We we int function over the input. It gives ValueError if the input is not number. If it is number we just convert it back to string and break the infinite loop using break.\n",
    "In case of ValueError, the loop continues and user is prompted to input another number. The loop continues until user inputs a number."
   ]
  },
  {
   "cell_type": "code",
   "execution_count": null,
   "metadata": {},
   "outputs": [],
   "source": [
    "n = (len(num)// 3 + 1)*3 if len(num)%3 != 0 else len(num) \n",
    "print(f'{num} in words is:  {converter(num.zfill(n))[:-2].rstrip().capitalize()}.')"
   ]
  },
  {
   "source": [
    "Let's first understand the second line then we will go through the first line.\n",
    "Second line seems overwhelming at first glance, but it's not much if we break it down.\n",
    "We are using f strings to print data in our desired format. Inside f string we are just calling the function converter that converts the number into words. The number we pass onto the function, however, should have the length that is multiplt of three so we use zfill method to do that.\n",
    "\n",
    "Some examples of zfill method.\n",
    "- '12'.zfill(3)   ->      '012'\n",
    "- '123'.zfill(10) ->      '0000000123'\n",
    "\n",
    "You get the idea. It fills the string with 0 for the reamining length.\n",
    "\n",
    "So now that you have understood what zfill does, let's go back to first line.\n",
    "```\n",
    "n = (len(num)// 3 + 1)*3 if len(num)%3 != 0 else len(num) \n",
    "```\n",
    "It can be written as:\n",
    "```\n",
    "if len(num) % 3 != 0:\n",
    "    n = (len(num)//3 + 1) * 3\n",
    "else:\n",
    "    n = len(n)\n",
    "```\n",
    "So we are just checking if the length of the input number (num) is multiple of 3. \n",
    "\n",
    "If yes n is assigned the length of the number. If no, we integer divide the length by 3 and add 1 to mutiply again by 3 to get a number that is multiple of 3.\n",
    "\n",
    "Then, we use this value of n and put it in zfill function to get the number that has length which is multiple of 3.\n",
    "\n",
    "After we make sure, length of number is multiple of 3, we pass the number to converter function which converts it into words and return it back. \n",
    "\n",
    "Now we slice the last two character of word which will be ', ' to only get words. \n",
    "\n",
    "Then we again use rstrip() function to remove any whitespace present in the right hand side. \n",
    "\n",
    "We then use capitalize function to capitalize the first alphabet of the string. \n",
    "\n",
    "Then we add a period at the end.\n",
    "\n",
    "After doing all these operations under f string, we print it to view it to the user using print function, of course.\n",
    "\n",
    "Finally, we are done!!!"
   ],
   "cell_type": "markdown",
   "metadata": {}
  },
  {
   "cell_type": "code",
   "execution_count": null,
   "metadata": {},
   "outputs": [],
   "source": []
  }
 ]
}
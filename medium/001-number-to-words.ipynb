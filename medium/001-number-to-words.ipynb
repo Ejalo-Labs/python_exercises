{
 "cells": [
  {
   "cell_type": "markdown",
   "metadata": {},
   "source": [
    "# Number to words\n",
    "We will be writing a python program that converts number to words.\n",
    "\n",
    "For example:\n",
    "\n",
    "**Input**\n",
    "\n",
    "```\n",
    "1231246778\n",
    "```\n",
    "\n",
    "**Output**\n",
    "\n",
    "```\n",
    "One billion, two hundred thirty-one million, two hundred forty-six thousand, seven hundred seventy-eight\n",
    "```"
   ]
  },
  {
   "cell_type": "markdown",
   "metadata": {},
   "source": [
    "# Solution\n",
    "The program will involve three steps.\n",
    "\n",
    "### Step 1:\n",
    "Getting the input from the user and formatting the number such that the length of the number will be a multiple of 3 by adding 0s to the front of the number if required. By doing this, we will be able to divide the number into chunks of 3 digits.\n",
    "\n",
    "- `5` -> `005`\n",
    "- `23` -> `023`\n",
    "- `123` -> `123`\n",
    "- `12345` -> `012_345`\n",
    "- `12345666` -> `012_345_666`\n",
    "    \n",
    "**Note**: Here, `_` is used just to signify the blocks. You can actually use `_` as a delimiter of numbers in python, but that's not what we are doing here.\n",
    "\n",
    "### Step 2:\n",
    "Converting each one block of three digits into words.\n",
    "\n",
    "### Step 3:\n",
    "Adding corresponding words of each of the blocks make it a single word.\n",
    "\n",
    "Now let's look at the code."
   ]
  },
  {
   "cell_type": "code",
   "execution_count": 1,
   "metadata": {},
   "outputs": [
    {
     "name": "stdout",
     "output_type": "stream",
     "text": [
      "Enter any number: 8378973948729805\n",
      "Eight quadrillion, three hundred seventy-eight trillion, nine hundred seventy-three billion, nine hundred forty-eight million, seven hundred twenty-nine thousand, eight hundred five\n"
     ]
    }
   ],
   "source": [
    "digit = {'0': '', '1': 'one', '2': 'two', '3': 'three', '4': 'four',\n",
    "         '5': 'five', '6': 'six', '7': 'seven', '8': 'eight', '9': 'nine'}\n",
    "tens = {'0': '', '1': {'0': 'ten', '1': 'eleven', '2': 'twelve', '3': 'thirteen', '4': 'fourteen', '5': 'fifteen',\n",
    "                       '6': 'sixteen', '7': 'seventeen', '8': 'eighteen', '9': 'nineteen'},\n",
    "        '2': 'twenty', '3': 'thirty', '4': 'forty', '5': 'fifty', '6': 'sixty', '7': 'seventy', '8': 'eighty',\n",
    "        '9': 'ninety', }\n",
    "unit = {0: '', 1: 'thousand', 2: 'million', 3: 'billion', 4: 'trillion', 5: 'quadrillion', 6: 'quintillion',\n",
    "        7: 'sextillion', 8: 'septillion', 9: 'octillion', 10: 'nonillion', 11: 'decillion',\n",
    "        12: 'undecillion', 13: 'duodecillion', 14: 'tredecillion', 15: 'quatttuor-decillion', 16: 'quindecillion',\n",
    "        17: 'duodecillion', 18: 'tredecillion', 19: 'octodecillion', 20: 'novemdecillion', 21: 'vigintillion'}\n",
    "\n",
    "\n",
    "def block_converter(block):\n",
    "    block_word = ''\n",
    "    if int(block) == 0:\n",
    "        return 'zero'\n",
    "    for i, v in enumerate(block):\n",
    "        if v != '0':\n",
    "            if i == 0:\n",
    "                block_word += digit[v] + ' hundred '\n",
    "            if i == 1:\n",
    "                block_word += tens[v][block[2]] if int(v) == 1 else tens[v]\n",
    "                if v != '1' and block[2] != '0':\n",
    "                    block_word += '-'\n",
    "            if i == 2 and block[1] != '1':\n",
    "                block_word += digit[v]\n",
    "    return block_word\n",
    "\n",
    "\n",
    "def converter(number):\n",
    "    word = ''\n",
    "    blocks = [''.join(number[i:i + 3]) for i in range(0, len(number), 3)]\n",
    "    for index, block in enumerate(blocks[::-1]):\n",
    "        word = block_converter(block) + ' ' + unit[index] + ', ' + word\n",
    "    return word\n",
    "\n",
    "\n",
    "while True:\n",
    "    try:\n",
    "        num = str(int(input('Enter any number: ')))\n",
    "        break\n",
    "    except ValueError:\n",
    "        print(\"Not a number. Input again.\")\n",
    "\n",
    "n = (len(num) // 3 + 1) * 3 if len(num) % 3 != 0 else len(num)\n",
    "print(f'{converter(num.zfill(n))[:-2].rstrip().capitalize()}')\n"
   ]
  },
  {
   "cell_type": "markdown",
   "metadata": {},
   "source": [
    "Okay, there's a lot to take in. I get it.\n",
    "\n",
    "Let's break the code into small chunks."
   ]
  },
  {
   "cell_type": "markdown",
   "metadata": {},
   "source": [
    "```python\n",
    "digit = {'0': '', '1': 'one', '2': 'two', '3': 'three', '4': 'four',\n",
    "         '5': 'five', '6': 'six', '7': 'seven', '8': 'eight', '9': 'nine'}\n",
    "tens = {'0': '', '1': {'0': 'ten', '1': 'eleven', '2': 'twelve', '3': 'thirteen', '4': 'fourteen', '5': 'fifteen',\n",
    "                       '6': 'sixteen', '7': 'seventeen', '8': 'eighteen', '9': 'nineteen'},\n",
    "        '2': 'twenty', '3': 'thirty', '4': 'forty', '5': 'fifty', '6': 'sixty', '7': 'seventy', '8': 'eighty',\n",
    "        '9': 'ninety', }\n",
    "unit = {0: '', 1: 'thousand', 2: 'million', 3: 'billion', 4: 'trillion', 5: 'quadrillion', 6: 'quintillion',\n",
    "        7: 'sextillion', 8: 'septillion', 9: 'octillion', 10: 'nonillion', 11: 'decillion',\n",
    "        12: 'undecillion', 13: 'duodecillion', 14: 'tredecillion', 15: 'quatttuor-decillion', 16: 'quindecillion',\n",
    "        17: 'duodecillion', 18: 'tredecillion', 19: 'octodecillion', 20: 'novemdecillion', 21: 'vigintillion'}\n",
    "```"
   ]
  },
  {
   "cell_type": "markdown",
   "metadata": {},
   "source": [
    "In this block of code, we are just initializing and assinging variables.\n",
    "- `digit` is a dictionary for the ones place of a three-digit code. Every digit from 0 to 9 is assigned it's corresponding word.\n",
    "- `tens` is a dictionary for the tens place of a three-digit code. And as eleven to nineteen are exception from the rest of numbers, we have assigned a seprate dictionary for the key '1'.\n",
    "- `unit` is a dictionary for each block. First block of three codes will take unit[0], the second will take unit[1], and so on.\n",
    "\n",
    "You will understand everything later when we use the values of these dictionaries later in our solution."
   ]
  },
  {
   "cell_type": "markdown",
   "metadata": {},
   "source": [
    "```python\n",
    "def block_converter(block):\n",
    "    block_word = ''\n",
    "    if int(block) == 0: return 'zero'\n",
    "    for i, v in enumerate(block):\n",
    "        if v != '0':\n",
    "            if i == 0: block_word += digit[v] + ' hundred '\n",
    "            if i == 1:\n",
    "                block_word += tens[v][block[2]] if int(v)== 1 else tens[v]\n",
    "                if v != '1' and block[2] != '0': block_word += '-'\n",
    "            if i == 2 and block[1] != '1': block_word += digit[v]\n",
    "    return block_word\n",
    "```"
   ]
  },
  {
   "cell_type": "markdown",
   "metadata": {},
   "source": [
    "Now this is the code that converts each block of three digits into their corresponding words.\n",
    "\n",
    "- `9` ->  `nine`\n",
    "- `99` -> `ninety-nine`\n",
    "\n",
    "- `999` -> `nine hundred ninety-nine`\n",
    "\n",
    "We won't be passing on values greater than 999 to this function as 999 is the greatest number for 3-digits number.\n",
    "\n",
    "---"
   ]
  },
  {
   "cell_type": "markdown",
   "metadata": {},
   "source": [
    "Now, let's see how this function works.\n",
    "```\n",
    "def block_converter(block):\n",
    "    (block of code)\n",
    "    return answer\n",
    "```\n",
    "The `def` function is just creating a `block_converter` function that takes in number of three digits and converts it into words.\n",
    "\n",
    "Initializing a function using `def`, we write code inside it and pass the answer out of the function using `return`.\n",
    "\n"
   ]
  },
  {
   "cell_type": "markdown",
   "metadata": {},
   "source": [
    "```python\n",
    "    block_word = ''\n",
    "    if int(block) == 0: return 'zero'\n",
    "```\n",
    "\n",
    "We initialize a string variable called `block_word` where we will be storing our word.\n",
    "\n",
    "Then we check if the number is `0`. If yes, we end the function right here by returning `zero`."
   ]
  },
  {
   "cell_type": "markdown",
   "metadata": {},
   "source": [
    "```python\n",
    "    for i, v in enumerate(block):\n",
    "        if v != '0':\n",
    "            if i == 0: block_word += digit[v] + ' hundred '\n",
    "            if i == 1:\n",
    "                block_word += tens[v][block[2]] if int(v)== 1 else tens[v]\n",
    "                if v != '1' and block[2] != '0': block_word += '-'\n",
    "            if i == 2 and block[1] != '1': block_word += digit[v]\n",
    "    return block_word\n",
    "```"
   ]
  },
  {
   "cell_type": "markdown",
   "metadata": {},
   "source": [
    "Let's now understand this code."
   ]
  },
  {
   "cell_type": "markdown",
   "metadata": {},
   "source": [
    "```python\n",
    "    for i, v in enumerate(block):\n",
    "```\n",
    "\n",
    "The `for` loop loops through the block of 3 digit-numbers and its indices using enumerate function.\n",
    "\n",
    "Here, `i` represent the index and `v` represent the value. The rest of the code is just conditions. Try to go through the lines to figure out what it does.\n",
    "\n",
    "```python\n",
    "        if v != '0':\n",
    "            if i == 0: block_word += digit[v] + ' hundred '\n",
    "            if i == 1:\n",
    "                block_word += tens[v][block[2]] if int(v)== 1 else tens[v]\n",
    "                if v != '1' and block[2] != '0': block_word += '-'\n",
    "            if i == 2 and block[1] != '1': block_word += digit[v]\n",
    "```\n",
    "\n",
    "Here,\n",
    "\n",
    "```python\n",
    "block_word += tens[v][block[2]] if int(v)== 1 else tens[v]\n",
    "```\n",
    "\n",
    "can be written as,\n",
    "\n",
    "```python\n",
    "if int(v) == 1:\n",
    "    block_word = block_word + tens[v]block[2]]\n",
    "else:\n",
    "    block_word = block_word + tens[v]\n",
    "```\n",
    "\n",
    "Play with the code and try to write your own. Just remember that a block of three-digit should be passed to this function or else it will terribly fail.\n",
    "\n",
    "We will code more down below to make sure block of three-digit and only three-digit is passed onto this function.\n"
   ]
  },
  {
   "cell_type": "markdown",
   "metadata": {},
   "source": [
    "```python\n",
    "def converter(number):\n",
    "    word = ''\n",
    "    blocks = [''.join(number[i:i + 3]) for i in range(0, len(number), 3)]\n",
    "    for index, block in enumerate(blocks[::-1]):\n",
    "        word = block_converter(block) + ' ' + unit[index] + ', ' + word\n",
    "    return word\n",
    "```"
   ]
  },
  {
   "cell_type": "markdown",
   "metadata": {},
   "source": [
    "The `converter` function converts a given number into block of three digits and then passes the block to the `block_converter` function we created above and combines all the values returned by the `block_converter` function. While doing that it also adds the unit for the respective index. For example:\n",
    "\n",
    "#### `345` -> `three hundred forty-five`\n",
    "Here it only returned the word returned by block_converter function.\n",
    "\n",
    "#### `123456`  -> `one hundred twenty-three thousand, four hundred fifty-six`\n",
    "Here it added 'one hundred twenty-three'  and 'four hundred fifty-six' returned by block_converter while also adding 'thousand' after 'one hundred twenty-three'\n",
    "\n",
    "#### `123456789` -> `one hundred twenty-three million, four hundred fifty-six thousand, seven hundred eighty-nine`\n",
    "Here it added 'million' after 123 and thousand after 456 and nothing after 789. \n",
    "\n",
    "Let's see how the function is doing that."
   ]
  },
  {
   "cell_type": "markdown",
   "metadata": {},
   "source": [
    "```python\n",
    "word = ''\n",
    "```\n",
    "\n",
    "Let's first initialize the string variable word where we will add all the words returned by our block converter.\n",
    "\n",
    "```python\n",
    "blocks = [''.join(num[i:i+3]) for i in range(0, len(num),3)]\n",
    "```\n",
    "\n",
    "This line of code is converting a given number into blocks of 3 digit-number.\n",
    "\n",
    "You would want to learn about list comprehension and join method before going through this code.\n",
    "\n",
    "---\n",
    "\n",
    "**List comprehension**\n",
    "\n",
    "List comprehension is an elegant way to define and create list in Python.\n",
    "\n",
    "List comprehension takes iterators and assigns a certain value to the list for each iterator.\n",
    "\n",
    "We can also add condition to the comprehension to only add values to the list when the condition is satisfied.\n",
    "\n",
    "That's exactly what we will be doing here.\n",
    "\n",
    "- `numbers = [x for x in range(10)]` will give the list: `[0, 1, 2, 3, 4, 5, 6, 7, 8, 9]`\n",
    "- `numbers = [x for x in range(10) if x % 2 == 0]` will give the list: `[0, 2, 4, 6, 8]`\n",
    "\n",
    "In the second example, the condition is that the number should be even to be added to the list. It neglects `[1,3,5,7,9]` as they are not even.\n",
    "\n",
    "---\n",
    "\n",
    "**join() method**\n",
    "\n",
    "`join()` method is a simple method that combines all the elements in a iterator (list in this case) into a string separated by a separator.\n",
    "\n",
    "- `''.join(['1','2','3','4'])` will return '1234'. Here `['1','2','3','4']` is the list and '' at the front of join method is separator.\n",
    "- `','.join(['1','2','3','4'])` will return '1,2,3,4'. Here `['1','2','3','4']` is the list and ',' at the front of join method is separator.\n",
    "\n",
    "You get the idea.\n",
    "\n",
    "---\n",
    "\n",
    "Now, let's look back at the line of code again.\n",
    "\n",
    "```python\n",
    "blocks = `[''.join(num[i:i+3]) for i in range(0, len(num),3)]`\n",
    "```\n",
    "\n",
    "Here, the `for` loop inside the list comprehension will loop from `0` to the length of the number with step `3`.\n",
    "\n",
    "For a number with length 9, the value of i would be 0 at first, 2 at the second iteration, 5 at the third, and 8 at the fourth.\n",
    "\n",
    "For each iteration of the loop, list comprehension adds a value to the list called blocks. Now, comes the magic of `join()` function. `num[i:i+3]` slices three elements from the `num` list and the `join()` function adds them to make a string of three digits."
   ]
  },
  {
   "cell_type": "markdown",
   "metadata": {},
   "source": [
    "```python\n",
    "for index, block in enumerate(blocks[::-1]):\n",
    "        word = block_converter(block) + ' ' + unit[index] + ', ' + word\n",
    "```"
   ]
  },
  {
   "cell_type": "markdown",
   "metadata": {},
   "source": [
    "This `for` loop iterates over the blocks. Here, we are using enumerate function to iterate over the values in the list as well the index of the value.\n",
    "\n",
    "We are also reversing the list using slicing method `blocks[::-1]` so that we can concatenate easily. \n",
    "\n",
    "---\n",
    "\n",
    "Let's take an example of the number **123456789**\n",
    "\n",
    "- This number will be converted into `['123','456', '789']` by  `[''.join(num[i:i+3]) for i in range(0, len(num),3)]`\n",
    "\n",
    "- Then we reverse this list to `['789','456','123']` by slicing `blocks[::-1]`\n",
    "\n",
    "- Then, we loop through the reversed list.\n",
    "\n",
    "**For the first iteration of for loop:**\n",
    "\n",
    "`block_converter('789')` return `even hundred eighty-nine`\n",
    "\n",
    "It is stored in the `word` variable and as the unit index of the first block is zero, nothing is added to it from the unit dictionary. \n",
    "\n",
    "**For the second iteration of for loop:**\n",
    "`word = 'seven hundred eighty-nine'`\n",
    "\n",
    "`block_converter('456')` returns 'four hundred fifty-six'\n",
    "\n",
    "unit of this block is 1 so `unit[1]` is 'thousand'.\n",
    "\n",
    "now we concatenate all these to make `seven hundred eighty-nine thousand, four hundred fifty-six`\n",
    "\n",
    "---\n",
    "\n",
    "We repeat the same process for million and add the word returned by the `block_converter('123')` and 'million' in front of the word we already have.\n",
    "Then we return the word our of the function using `return word`."
   ]
  },
  {
   "cell_type": "markdown",
   "metadata": {},
   "source": [
    "```python\n",
    "while True:\n",
    "    try:\n",
    "        num = str(int(input('Enter any number: ')))\n",
    "        break\n",
    "    except ValueError:\n",
    "        print(\"Not a number. Input again.\")\n",
    "```"
   ]
  },
  {
   "cell_type": "markdown",
   "metadata": {},
   "source": [
    "This block of code just checks if the input from the user is number of not.\n",
    "\n",
    "We initiate an infinite `while` loop that only breaks when certain condition is met.\n",
    "\n",
    "We then use `try` and `except` to prevent any program crashing in case user doesn't input the expected format of data.\n",
    "\n",
    "We convert the input to an integer using the `int` function. It gives `ValueError` if the input is not number. If it is number we just convert it back to string and break the infinite loop using `break`.\n",
    "\n",
    "In case of `ValueError`, the loop continues and user is prompted to input another number. The loop continues until user inputs a number."
   ]
  },
  {
   "cell_type": "markdown",
   "metadata": {},
   "source": [
    "```python\n",
    "n = (len(num)// 3 + 1)*3 if len(num)%3 != 0 else len(num) \n",
    "print(f'{converter(num.zfill(n))[:-2].rstrip().capitalize()}')\n",
    "```"
   ]
  },
  {
   "cell_type": "markdown",
   "metadata": {},
   "source": [
    "Let's first understand the second line then we will go through the first line.\n",
    "\n",
    "Second line seems overwhelming at first glance, but it's not much if we break it down.\n",
    "\n",
    "We are using fstrings to print data in our desired format. Inside fstring we are just calling the function converter that converts the number into words. The number we pass onto the function, however, should have the length that is multiplt of three so we use `zfill` method to do that.\n",
    "\n",
    "Some examples of `zfill` method.\n",
    "- `'12'.zfill(3)` -> `'012'`\n",
    "- `'123'.zfill(10)` -> `'0000000123'`\n",
    "\n",
    "You get the idea. It fills the string with 0 for the reamining length.\n",
    "\n",
    "So now that you have understood what zfill does, let's go back to first line.\n",
    "\n",
    "```python\n",
    "n = (len(num)// 3 + 1)*3 if len(num)%3 != 0 else len(num) \n",
    "```\n",
    "It can be written as:\n",
    "```python\n",
    "if len(num) % 3 != 0:\n",
    "    n = (len(num)//3 + 1) * 3\n",
    "else:\n",
    "    n = len(n)\n",
    "```\n",
    "So we are just checking if the length of the input number (num) is multiple of 3. \n",
    "\n",
    "If yes, `n` is assigned the length of the number. If no, we integer divide the length by 3 and add 1 to mutiply again by 3 to get a number that is multiple of 3.\n",
    "\n",
    "Then, we use this value of n and put it in `zfill` function to get the number that has length which is multiple of 3.\n",
    "\n",
    "After we make sure, length of number is multiple of 3, we pass the number to converter function which converts it into words and return it back. \n",
    "\n",
    "Now we slice the last two character of word which will be `', '` to only get words. \n",
    "\n",
    "Then we again use `rstrip()` function to remove any whitespace present in the right hand side. \n",
    "\n",
    "We then use the `capitalize()` function to capitalize the first alphabet of the string. \n",
    "\n",
    "Then we add a period at the end.\n",
    "\n",
    "After doing all these operations under fstring, we print it to view it to the user using print function, of course.\n",
    "\n",
    "Finally, we are done!!!"
   ]
  }
 ],
 "metadata": {
  "kernelspec": {
   "display_name": "Python 3",
   "language": "python",
   "name": "python3"
  },
  "language_info": {
   "codemirror_mode": {
    "name": "ipython",
    "version": 3
   },
   "file_extension": ".py",
   "mimetype": "text/x-python",
   "name": "python",
   "nbconvert_exporter": "python",
   "pygments_lexer": "ipython3",
   "version": "3.8.5"
  }
 },
 "nbformat": 4,
 "nbformat_minor": 2
}
